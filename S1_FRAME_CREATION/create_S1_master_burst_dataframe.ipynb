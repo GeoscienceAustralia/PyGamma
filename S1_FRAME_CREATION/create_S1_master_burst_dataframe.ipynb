{
 "cells": [
  {
   "cell_type": "markdown",
   "metadata": {},
   "source": [
    "# Create dataframe of master burst coordinates for future use\n",
    "### Master burst coordinates created in ArcGIS and attribute table details stored in a text file"
   ]
  },
  {
   "cell_type": "code",
   "execution_count": null,
   "metadata": {
    "collapsed": false
   },
   "outputs": [],
   "source": [
    "# developed 15 Feb 2019, S Lawrie, GA\n",
    "\n",
    "import os\n",
    "import pandas as pd\n",
    "import geopandas as gpd\n",
    "from shapely.geometry import Point, Polygon\n",
    "import cv2\n",
    "\n",
    "%matplotlib inline \n",
    "# required for correct plotting in jupyter notebook"
   ]
  },
  {
   "cell_type": "markdown",
   "metadata": {},
   "source": [
    "### Orientation Details"
   ]
  },
  {
   "cell_type": "code",
   "execution_count": null,
   "metadata": {
    "collapsed": true
   },
   "outputs": [],
   "source": [
    "burst_dir = \"/g/data1/dg9/SENTINEL-1_BURSTS\"\n",
    "\n",
    "#orient = \"Ascending\"\n",
    "orient = \"Descending\"\n",
    "\n",
    "#input_file = \"S1_master_bursts_ascending.txt\"\n",
    "input_file = \"S1_master_bursts_descending.txt\""
   ]
  },
  {
   "cell_type": "code",
   "execution_count": null,
   "metadata": {
    "collapsed": true
   },
   "outputs": [],
   "source": [
    "def master_coords():\n",
    "    \"Creates a dataframe with shapely polygons of master burst coordinates which have a buffer applied.\" \n",
    "    \"To save future processing time, the dataframe is saved for use when creating 'frame' scene stacks.\"\n",
    "    \n",
    "    # load master burst coordinates text file into a dataframe \n",
    "    df_master_input = pd.read_csv(\"%s/MASTER_BURSTS/%s\" %(burst_dir,input_file), sep=\",\")\n",
    "\n",
    "    ## Convert coordinates into shapely polygons and put into new dataframe\n",
    "    df_master = pd.DataFrame([])  # create blank dataframe\n",
    "\n",
    "    # iterate over coordinates and append to blank dataframe\n",
    "    for i, row in df_master_input.iterrows():\n",
    "        mission = row[1]\n",
    "        mode = row[2]\n",
    "        type1 = row[3]\n",
    "        pass1 = row[4]\n",
    "        orbit = row[5]\n",
    "        frame = row[6]        \n",
    "        burst_num = row[7]  \n",
    "        swath = row[8] \n",
    "        polar = row[9]\n",
    "        ul = Point(float(row[10]), float(row[11]))\n",
    "        ur = Point(float(row[12]), float(row[13]))\n",
    "        lr = Point(float(row[14]), float(row[15]))\n",
    "        ll = Point(float(row[16]), float(row[17]))\n",
    "        pointList = [ul, ur, lr, ll]\n",
    "        poly = Polygon([[p.x, p.y] for p in pointList]) # creates shapely polygon\n",
    "        df_temp1 =  gpd.GeoDataFrame([[mission,type1,mode,pass1,orbit,frame,burst_num,swath,polar,poly]],\n",
    "                          columns = ['Mission','Type','Mode','Pass','RelOrbit','Frame','BurstNum','Swath','Polar','Extent'],\n",
    "                          geometry='Extent')\n",
    "        df_master = df_master.append(df_temp1, ignore_index=True)\n",
    "    \n",
    "    # calculate buffer for each master burst extent and add to dataframe\n",
    "    for i in df_master.index:\n",
    "        poly = df_master.at[i,'Extent']\n",
    "        buffer = poly.buffer(+0.02, cap_style=2,join_style=2)\n",
    "        df_master.at[i,'Buffer'] = buffer\n",
    "    \n",
    "    # save master burst coordinates dataframe for future use\n",
    "    name = '%s/MASTER_BURSTS/S1_IW_SLC_%s_Master_Bursts_Dataframe' %(burst_dir,orient)\n",
    "    df = df_master.to_pickle(name)\n",
    "    \n",
    "    return"
   ]
  },
  {
   "cell_type": "markdown",
   "metadata": {},
   "source": [
    "### Run Function"
   ]
  },
  {
   "cell_type": "code",
   "execution_count": null,
   "metadata": {
    "collapsed": false
   },
   "outputs": [],
   "source": [
    "master_coords()"
   ]
  },
  {
   "cell_type": "markdown",
   "metadata": {},
   "source": [
    "#### check dataframe result"
   ]
  },
  {
   "cell_type": "code",
   "execution_count": null,
   "metadata": {
    "collapsed": false
   },
   "outputs": [],
   "source": [
    "name = '%s/MASTER_BURSTS/S1_IW_SLC_%s_Master_Bursts_Dataframe' %(burst_dir,orient)\n",
    "df_master = pd.read_pickle(name)\n",
    "df_master.head()"
   ]
  }
 ],
 "metadata": {
  "celltoolbar": "Raw Cell Format",
  "kernelspec": {
   "display_name": "Python 3",
   "language": "python",
   "name": "python3"
  },
  "language_info": {
   "codemirror_mode": {
    "name": "ipython",
    "version": 3
   },
   "file_extension": ".py",
   "mimetype": "text/x-python",
   "name": "python",
   "nbconvert_exporter": "python",
   "pygments_lexer": "ipython3",
   "version": "3.5.2"
  }
 },
 "nbformat": 4,
 "nbformat_minor": 0
}
